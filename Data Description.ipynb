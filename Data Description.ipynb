{
 "cells": [
  {
   "cell_type": "markdown",
   "metadata": {},
   "source": [
    "## Housing Market and Venues Data - Analysis of Düsseldorf"
   ]
  },
  {
   "cell_type": "markdown",
   "metadata": {},
   "source": [
    "### Introduction | Data Description"
   ]
  },
  {
   "cell_type": "markdown",
   "metadata": {},
   "source": [
    "In order to develop this project, the data below will be used as support:\n",
    "\n",
    "* **Table of city district and boroughs**: Wikipedia page - list of city boroughs of Düsseldorf. This information will be the setting stone of the project, as all remaining information will be joined to this base. https://de.wikipedia.org/wiki/Liste_der_Stadtbezirke_von_D%C3%BCsseldorf\n",
    "<br />\n",
    "\n",
    "* **Habitants of Düsseldorf - 2018**: City Population website. Our goal is to be able to map this information in a Choropleth Map in order to understand the dynamics of where do people tend to reside.\n",
    "http://www.citypopulation.de/en/germany/dusseldorf/admin/\n",
    "<br />\n",
    "\n",
    "* **Housing information (appartments for rent)**: Immobilien Scout 24. https://www.immobilienscout24.de/ \n",
    "\n",
    " This is one of the most know portals to find housing in Germany. The searching configurations are:\n",
    " * Location: City of Düsseldorf (all boroughs)\n",
    " * Price: up to € 3.500 Euro\n",
    " * Number of Rooms: from 1 to 3 rooms\n",
    "<br />\n",
    "<br />\n",
    "<br />\n",
    "* **GeoJSON with the Boroughs of Düsseldorf**: Open Data Düsseldorf. Which will be essential to create some Choropleth Maps. https://opendata.duesseldorf.de/dataset/stadtteilgrenzen-d%C3%BCsseldorf\n",
    "<br />\n",
    "* **Venues of Düsseldorf**: We will use the **FourSquare API** to retrieve the most common Venues of Düsseldorf by borough.\n"
   ]
  }
 ],
 "metadata": {
  "kernelspec": {
   "display_name": "Python 3",
   "language": "python",
   "name": "python3"
  },
  "language_info": {
   "codemirror_mode": {
    "name": "ipython",
    "version": 3
   },
   "file_extension": ".py",
   "mimetype": "text/x-python",
   "name": "python",
   "nbconvert_exporter": "python",
   "pygments_lexer": "ipython3",
   "version": "3.7.7"
  }
 },
 "nbformat": 4,
 "nbformat_minor": 4
}
