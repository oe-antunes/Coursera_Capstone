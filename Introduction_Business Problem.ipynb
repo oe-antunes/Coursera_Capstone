{
 "cells": [
  {
   "cell_type": "markdown",
   "metadata": {},
   "source": [
    "## Housing Market and Venues Data - Analysis of Düsseldorf"
   ]
  },
  {
   "cell_type": "markdown",
   "metadata": {},
   "source": [
    "### Introduction | Background Discussion"
   ]
  },
  {
   "cell_type": "markdown",
   "metadata": {},
   "source": [
    "North Rhine-Westphalia (NRW) is the most populous state of the 16 states of Germany with almost 18 Million habitants. Although Cologne, with around 1 Million habitants, is the biggest city of this state, the state's capital goes by the name Düsseldorf, a city with roughly 600.000 habitants.\n",
    "\n",
    "Lying on the sides of the Rhine River, Düsseldorf has been consistently considered one of the top cities in the world in terms of quality of living, according to sources such as Mercer's Quality of Living Ranking. Having also one of the top 3 busiest airports in Germany, Düsseldorf holds a vibrant expat community. This is a city which is an international business and financial centre, renowned for its fashion and trade fairs.\n",
    "\n",
    "This project will approach a scenario where a person who holds close to no knowledge of Düsseldorf, has the chance to move to this city. One of the first and most daunting steps to undertake such challenge is precisely to find housing in this unknown city, and to acquire some grasp of the \"best\" places and locations. \n",
    "\n",
    "We will then work on a methodology which will be an exercise to cluster the housing information and the venues of this small but dense center. "
   ]
  }
 ],
 "metadata": {
  "kernelspec": {
   "display_name": "Python 3",
   "language": "python",
   "name": "python3"
  },
  "language_info": {
   "codemirror_mode": {
    "name": "ipython",
    "version": 3
   },
   "file_extension": ".py",
   "mimetype": "text/x-python",
   "name": "python",
   "nbconvert_exporter": "python",
   "pygments_lexer": "ipython3",
   "version": "3.7.7"
  }
 },
 "nbformat": 4,
 "nbformat_minor": 4
}
