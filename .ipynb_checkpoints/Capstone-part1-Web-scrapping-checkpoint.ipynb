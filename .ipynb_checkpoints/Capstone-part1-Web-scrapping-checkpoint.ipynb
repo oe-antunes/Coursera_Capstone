{
 "cells": [
  {
   "cell_type": "markdown",
   "metadata": {},
   "source": [
    "# IBM Data Science Professional Certificate - Capstone Final Project - Oscar Antunes\n",
    "##### \n",
    "### Analysis of Düsseldorf boroughs, Germany\n",
    "##### \n",
    "#### Webscraping for  Boroughs, Houses available, Housing prices, Habitants, Venues\n",
    "##### \n"
   ]
  },
  {
   "cell_type": "code",
   "execution_count": 1,
   "metadata": {},
   "outputs": [
    {
     "name": "stdout",
     "output_type": "stream",
     "text": [
      "Libraries imported.\n"
     ]
    }
   ],
   "source": [
    "# Import required libraries for scrapping\n",
    "import urllib.request\n",
    "from bs4 import BeautifulSoup\n",
    "import smtplib\n",
    "import json # library to handle JSON files\n",
    "from pandas.io.json import json_normalize # tranform JSON file into a pandas dataframe\n",
    "\n",
    "import requests # library to handle requests\n",
    "\n",
    "\n",
    "import numpy as np # library to handle data in a vectorized manner\n",
    "import pandas as pd # library for data analsysis\n",
    "pd.set_option('display.max_columns', None)\n",
    "pd.set_option('display.max_rows', None)\n",
    "\n",
    "# Regular Expressions to collect the addresses\n",
    "import re\n",
    "\n",
    "# Get the same number of District cells as Boroughs\n",
    "from itertools import chain\n",
    "\n",
    "#!conda install -c conda-forge geopy --yes # uncomment this line if you haven't completed the Foursquare API lab\n",
    "from geopy.geocoders import Nominatim # convert an address into latitude and longitude values\n",
    "\n",
    "\n",
    "\n",
    "# Matplotlib and associated plotting modules\n",
    "import matplotlib.cm as cm\n",
    "import matplotlib.colors as colors\n",
    "\n",
    "# import k-means from clustering stage\n",
    "from sklearn.cluster import KMeans\n",
    "\n",
    "#!conda install -c conda-forge folium=0.5.0 --yes # uncomment this line if you haven't completed the Foursquare API lab\n",
    "import folium # map rendering library\n",
    "\n",
    "# Class object has been created to store the credentials for safekeeping\n",
    "#import credentials_oa_outlk\n",
    "\n",
    "print('Libraries imported.')"
   ]
  },
  {
   "cell_type": "markdown",
   "metadata": {},
   "source": [
    "#### \n",
    "## Getting the number of habitants per borough"
   ]
  },
  {
   "cell_type": "code",
   "execution_count": 22,
   "metadata": {},
   "outputs": [],
   "source": [
    "url_hab = 'http://www.citypopulation.de/en/germany/dusseldorf/admin/'\n",
    "page = requests.get(url_hab)\n",
    "\n",
    "    \n",
    "# Parsing through the URL\n",
    "soup = BeautifulSoup(page.content, 'html.parser')"
   ]
  },
  {
   "cell_type": "code",
   "execution_count": 23,
   "metadata": {},
   "outputs": [
    {
     "data": {
      "text/plain": [
       "0    85,914\n",
       "1     2,404\n",
       "dtype: object"
      ]
     },
     "execution_count": 23,
     "metadata": {},
     "output_type": "execute_result"
    }
   ],
   "source": [
    "\n",
    "pop = soup.find_all('td', class_=['admin2', 'rpop prio1'])\n",
    "    \n",
    "pop_2018 = []\n",
    "for p in pop:\n",
    "        p = p.decode()\n",
    "        stuff = re.findall((r'[0-9][0-9,.]+'),p)\n",
    "        if len(stuff) == 0:\n",
    "            continue\n",
    "        else:\n",
    "            temp = []\n",
    "            temp.append(stuff)\n",
    "            for sublist in temp:\n",
    "                for item in sublist:\n",
    "                    pop_2018.append(item)\n",
    "    \n",
    "\n",
    "pd_pop = pd.Series(pop_2018, dtype=object)\n",
    "pd_pop.head(2)"
   ]
  },
  {
   "cell_type": "code",
   "execution_count": 29,
   "metadata": {},
   "outputs": [
    {
     "data": {
      "text/plain": [
       "0    Stadtbezirk 1\n",
       "1         Altstadt\n",
       "dtype: object"
      ]
     },
     "execution_count": 29,
     "metadata": {},
     "output_type": "execute_result"
    }
   ],
   "source": [
    "name = soup.find_all(itemprop=\"name\")\n",
    "\n",
    "bez_name = []\n",
    "for n in name:\n",
    "    n = n.decode()\n",
    "    stuff = re.findall((r\">(.*)\\<\"), n)\n",
    "    if len(stuff) == 0:\n",
    "        continue\n",
    "    else:\n",
    "        temp = []\n",
    "        temp.append(stuff)\n",
    "        for sublist in temp:\n",
    "            for item in sublist:\n",
    "                bez_name.append(item)\n",
    "            \n",
    "            \n",
    "bez_name = bez_name[3:45]+bez_name[46:] #Remove Continent and Country names + Removing old borough that was surpressed\n",
    "pd_name = pd.Series(bez_name, dtype=object)\n",
    "\n",
    "\n",
    "pd_name.reset_index(drop=True)\n",
    "pd_name.head(2)"
   ]
  },
  {
   "cell_type": "code",
   "execution_count": 28,
   "metadata": {},
   "outputs": [
    {
     "data": {
      "text/html": [
       "<div>\n",
       "<style scoped>\n",
       "    .dataframe tbody tr th:only-of-type {\n",
       "        vertical-align: middle;\n",
       "    }\n",
       "\n",
       "    .dataframe tbody tr th {\n",
       "        vertical-align: top;\n",
       "    }\n",
       "\n",
       "    .dataframe thead th {\n",
       "        text-align: right;\n",
       "    }\n",
       "</style>\n",
       "<table border=\"1\" class=\"dataframe\">\n",
       "  <thead>\n",
       "    <tr style=\"text-align: right;\">\n",
       "      <th></th>\n",
       "      <th>Area</th>\n",
       "      <th>Population</th>\n",
       "    </tr>\n",
       "  </thead>\n",
       "  <tbody>\n",
       "    <tr>\n",
       "      <th>0</th>\n",
       "      <td>Stadtbezirk 1</td>\n",
       "      <td>85,914</td>\n",
       "    </tr>\n",
       "    <tr>\n",
       "      <th>1</th>\n",
       "      <td>Altstadt</td>\n",
       "      <td>2,404</td>\n",
       "    </tr>\n",
       "    <tr>\n",
       "      <th>2</th>\n",
       "      <td>Carlstadt</td>\n",
       "      <td>2,285</td>\n",
       "    </tr>\n",
       "    <tr>\n",
       "      <th>3</th>\n",
       "      <td>Derendorf</td>\n",
       "      <td>20,610</td>\n",
       "    </tr>\n",
       "    <tr>\n",
       "      <th>4</th>\n",
       "      <td>Golzheim</td>\n",
       "      <td>12,597</td>\n",
       "    </tr>\n",
       "  </tbody>\n",
       "</table>\n",
       "</div>"
      ],
      "text/plain": [
       "            Area Population\n",
       "0  Stadtbezirk 1     85,914\n",
       "1       Altstadt      2,404\n",
       "2      Carlstadt      2,285\n",
       "3      Derendorf     20,610\n",
       "4       Golzheim     12,597"
      ]
     },
     "execution_count": 28,
     "metadata": {},
     "output_type": "execute_result"
    }
   ],
   "source": [
    "population = pd.concat([pd_name, pd_pop], axis=1, sort=False)\n",
    "population.columns = ['Area', 'Population']\n",
    "population.head()"
   ]
  },
  {
   "cell_type": "markdown",
   "metadata": {},
   "source": [
    "#### \n",
    "## Getting the Coordinates for the city of Düsseldorf"
   ]
  },
  {
   "cell_type": "code",
   "execution_count": 6,
   "metadata": {},
   "outputs": [
    {
     "name": "stdout",
     "output_type": "stream",
     "text": [
      "The geograpical coordinate of Düsseldorf are 51.2254018, 6.7763137.\n"
     ]
    }
   ],
   "source": [
    "# Getting the Coordinates for Düsseldorf\n",
    "\n",
    "address = 'Düsseldorf, NRW'\n",
    "\n",
    "geolocator = Nominatim(user_agent=\"duesseldorf_explorer\")\n",
    "location = geolocator.geocode(address)\n",
    "latitude = location.latitude\n",
    "longitude = location.longitude\n",
    "print('The geograpical coordinate of Düsseldorf are {}, {}.'.format(latitude, longitude))"
   ]
  },
  {
   "cell_type": "markdown",
   "metadata": {},
   "source": [
    "# \n",
    "## Getting the Boroughs"
   ]
  },
  {
   "cell_type": "code",
   "execution_count": 30,
   "metadata": {},
   "outputs": [
    {
     "name": "stdout",
     "output_type": "stream",
     "text": [
      "Data parsed.\n",
      "Table located.\n"
     ]
    }
   ],
   "source": [
    "url_wiki = 'https://de.wikipedia.org/wiki/Liste_der_Stadtbezirke_von_D%C3%BCsseldorf'\n",
    "\n",
    "page = requests.get(url_wiki)\n",
    "# Parsing through the URL\n",
    "soup = BeautifulSoup(page.content, 'html.parser')\n",
    "print(\"Data parsed.\")\n",
    "\n",
    "# Identify the table to scrap\n",
    "right_table = soup.find('table', class_ = 'wikitable sortable')\n",
    "print(\"Table located.\")"
   ]
  },
  {
   "cell_type": "markdown",
   "metadata": {},
   "source": [
    "# \n",
    "## Assigning Districts and Boroughs to DataFrame"
   ]
  },
  {
   "cell_type": "code",
   "execution_count": 31,
   "metadata": {},
   "outputs": [
    {
     "name": "stdout",
     "output_type": "stream",
     "text": [
      "           District                                            Borough\n",
      "0  Stadtbezirk 1[1]  011 Altstadt012 Carlstadt013 Stadtmitte014 Pem...\n",
      "1  Stadtbezirk 2[2]     021 Flingern Süd022 Flingern Nord023 Düsseltal \n",
      "\n",
      "           District                                            Borough  \\\n",
      "0  Stadtbezirk ,[,]  , Altstadt, Carlstadt, Stadtmitte, Pempelfort,...   \n",
      "1  Stadtbezirk ,[,]           , Flingern Süd, Flingern Nord, Düsseltal   \n",
      "\n",
      "  district_numb  \n",
      "0             1  \n",
      "1             2  \n"
     ]
    }
   ],
   "source": [
    "# SET THE DATAFRAME COLUMNS || CREATE EMPTY DATAFRAME WITH THE SAME STRUCTURE OF THE ORIGINAL\n",
    "column_names = ['District','Borough','Fläche','Einwohner','Bewölkerungsdichte','Bezirkvorsteher','K','Karte']\n",
    "df = pd.DataFrame(columns = column_names)\n",
    "\n",
    "#####################################################\n",
    "# LOAD OF THE DATAFRAME || CLEAR TO THE 2 COLUMNS NEEDEED\n",
    "for tr_cell in right_table.find_all('tr'):\n",
    "    row_data = []\n",
    "    for td_cell in tr_cell.find_all('td'):\n",
    "        row_data.append(td_cell.text.rstrip())\n",
    "        \n",
    "    if len(row_data)>0:\n",
    "        df.loc[len(df)] = row_data\n",
    "        \n",
    "df = df[['District', 'Borough']]\n",
    "print(df.head(2),'\\n')\n",
    "\n",
    "#####################################################\n",
    "# REMOVE NUMERIC DIGITS FROM THE BOROUGHS\n",
    "df.set_index(['District', 'Borough'])  \n",
    "df = df.replace(regex=r'[0-9]+', value=',')\n",
    "\n",
    "# As the numeric digit has been removed from the District Column, \n",
    "# we need to add the number of each district as per the current index \n",
    "district_numb = ['1','2','3','4','5','6','7','8','9','10']\n",
    "df['district_numb'] = district_numb\n",
    "\n",
    "print(df.head(2))"
   ]
  },
  {
   "cell_type": "code",
   "execution_count": 32,
   "metadata": {},
   "outputs": [],
   "source": [
    "### Get several District cells for each Borough\n",
    "# return list from series of comma-separated strings\n",
    "def chainer(s):\n",
    "    return list(chain.from_iterable(s.str.split(',')))\n",
    "\n",
    "# calculate lengths of splits\n",
    "lens = df['Borough'].str.split(',').map(len)\n",
    "\n",
    "# create new dataframe, repeating or chaining as appropriate\n",
    "res = pd.DataFrame({'District': np.repeat(df['District'], lens),\n",
    "                    'Borough': chainer(df['Borough']),\n",
    "                    'district_numb': np.repeat(df['district_numb'], lens)})\n",
    "# Strip empty cells \"\"\n",
    "res = res[res['Borough'].str.strip().astype(bool)]"
   ]
  },
  {
   "cell_type": "code",
   "execution_count": 42,
   "metadata": {},
   "outputs": [
    {
     "name": "stdout",
     "output_type": "stream",
     "text": [
      "Scrapping of Districts and Boroughs completed!\n",
      "\n",
      "        District     Borough\n",
      "0  Stadtbezirk 1    Altstadt\n",
      "1  Stadtbezirk 1   Carlstadt\n"
     ]
    }
   ],
   "source": [
    "# Concatenate the District to include the Number for each District\n",
    "res['Dis'] = res['District'].str[:11] \n",
    "res['District'] = res['Dis']+' '+res['district_numb']\n",
    "\n",
    "# Finalize the DataFrame with Districts and Boroughs of Düsseldorf\n",
    "df_boroughs = res[['District','Borough']]\n",
    "df_boroughs = df_boroughs.reset_index(drop=True)\n",
    "\n",
    "print('Scrapping of Districts and Boroughs completed!\\n')\n",
    "print(df_boroughs.head(2))"
   ]
  },
  {
   "cell_type": "markdown",
   "metadata": {},
   "source": [
    "# \n",
    "## Scrapping housing information"
   ]
  },
  {
   "cell_type": "code",
   "execution_count": 12,
   "metadata": {},
   "outputs": [
    {
     "name": "stdout",
     "output_type": "stream",
     "text": [
      "Page 1 scraped\n",
      "Page 2 scraped\n",
      "Page 3 scraped\n",
      "Page 4 scraped\n",
      "Page 5 scraped\n",
      "Page 6 scraped\n",
      "Page 7 scraped\n",
      "Page 8 scraped\n",
      "Page 9 scraped\n",
      "Page 10 scraped\n",
      "Page 11 scraped\n",
      "Page 12 scraped\n",
      "Page 13 scraped\n",
      "Page 14 scraped\n",
      "Page 15 scraped\n",
      "Page 16 scraped\n",
      "Page 17 scraped\n",
      "Page 18 scraped\n",
      "Page 19 scraped\n",
      "Page 20 scraped\n"
     ]
    }
   ],
   "source": [
    "pnumber = 1 \n",
    "num = 1 \n",
    "address1 = []\n",
    "price1 = []\n",
    "rooms1 = []\n",
    "\n",
    "while pnumber < 21:\n",
    "    url_house = 'https://www.immobilienscout24.de/Suche/radius/wohnung-mieten?centerofsearchaddress=D%C3%BCsseldorf;;;1276010012;Nordrhein-Westfalen;&numberofrooms=2.0-&price=-2000.0&geocoordinates=51.23824;6.81513;3.0&pagenumber={}'.format(pnumber)\n",
    "    headers = {\"User-agent\": 'Mozilla/5.0 (X11; Linux x86_64) AppleWebKit/537.36 (KHTML, like Gecko) Chrome/83.0.4103.116 Safari/537.36'}\n",
    "\n",
    "    page = requests.get(url_house, headers=headers)\n",
    "    \n",
    "    # Parsing through the URL\n",
    "    soup = BeautifulSoup(page.content, 'html.parser')\n",
    "    \n",
    "    #Check if pages are being scraped\n",
    "    print('Page {} scraped'.format(num))\n",
    "    num = num + 1\n",
    "    \n",
    "    #Getting Adress\n",
    "    address  = soup.find_all('button')\n",
    "    \n",
    "    for a in address:\n",
    "        a = a.decode()\n",
    "        stuff = re.findall((\"[^<>]+\\w+[A-Za-z].\\\\s+Düsseldorf\"), a)\n",
    "        if len(stuff) == 0:\n",
    "            continue\n",
    "        else:        \n",
    "            address1.append(stuff)\n",
    "    \n",
    "    #Getting price\n",
    "    price  = soup.find_all('dd')\n",
    "    \n",
    "    for p in price:\n",
    "        p = p.decode()\n",
    "        stuff = re.findall((\"[^<>]+\\\\s+€\"),p)\n",
    "        if len(stuff) == 0:\n",
    "            continue\n",
    "        else:        \n",
    "            price1.append(stuff)\n",
    "    \n",
    "    #Getting number of rooms\n",
    "    rooms = soup.findAll(class_=['onlySmall'])\n",
    "    \n",
    "    for r in rooms:\n",
    "        r = r.decode()\n",
    "        stuff = re.findall((\"[>]+[0-9]+[<]\"), r)\n",
    "        if len(stuff) == 0:\n",
    "            continue\n",
    "        else:   \n",
    "            rooms1.append(stuff)\n",
    "    \n",
    "    \n",
    "    pnumber = pnumber + 1\n",
    "    "
   ]
  },
  {
   "cell_type": "code",
   "execution_count": 13,
   "metadata": {},
   "outputs": [
    {
     "data": {
      "text/plain": [
       "[['>3<'], ['>2<'], ['>2<'], ['>2<'], ['>3<']]"
      ]
     },
     "execution_count": 13,
     "metadata": {},
     "output_type": "execute_result"
    }
   ],
   "source": [
    "rooms1[:5]"
   ]
  },
  {
   "cell_type": "code",
   "execution_count": 14,
   "metadata": {},
   "outputs": [],
   "source": [
    "\n",
    "flat_address = []\n",
    "flat_price = []\n",
    "flat_rooms = []\n",
    "\n",
    "for sublist in address1:\n",
    "    for item in sublist:\n",
    "        flat_address.append(item)\n",
    "\n",
    "for sublist in price1:\n",
    "    for item in sublist:\n",
    "        flat_price.append(item)\n",
    "        \n",
    "for sublist in rooms1:\n",
    "    for item in sublist:\n",
    "        flat_rooms.append(item)\n",
    "\n",
    "pd_address = pd.Series(flat_address, dtype = object)\n",
    "pd_price = pd.Series(flat_price, dtype = object)\n",
    "pd_rooms = pd.Series(flat_rooms, dtype = object)\n"
   ]
  },
  {
   "cell_type": "code",
   "execution_count": 15,
   "metadata": {},
   "outputs": [],
   "source": [
    "# Finishing cleaning the number of rooms\n",
    "pd_rooms = pd_rooms.str[1]"
   ]
  },
  {
   "cell_type": "code",
   "execution_count": 16,
   "metadata": {},
   "outputs": [
    {
     "data": {
      "text/html": [
       "<div>\n",
       "<style scoped>\n",
       "    .dataframe tbody tr th:only-of-type {\n",
       "        vertical-align: middle;\n",
       "    }\n",
       "\n",
       "    .dataframe tbody tr th {\n",
       "        vertical-align: top;\n",
       "    }\n",
       "\n",
       "    .dataframe thead th {\n",
       "        text-align: right;\n",
       "    }\n",
       "</style>\n",
       "<table border=\"1\" class=\"dataframe\">\n",
       "  <thead>\n",
       "    <tr style=\"text-align: right;\">\n",
       "      <th></th>\n",
       "      <th>Address</th>\n",
       "      <th>Price</th>\n",
       "      <th>Num_Rooms</th>\n",
       "    </tr>\n",
       "  </thead>\n",
       "  <tbody>\n",
       "    <tr>\n",
       "      <th>0</th>\n",
       "      <td>Heideweg 5, Mörsenbroich, Düsseldorf</td>\n",
       "      <td>1.086,03 €</td>\n",
       "      <td>3</td>\n",
       "    </tr>\n",
       "    <tr>\n",
       "      <th>1</th>\n",
       "      <td>Langerstraße 57, Flingern Süd, Düsseldorf</td>\n",
       "      <td>700 €</td>\n",
       "      <td>2</td>\n",
       "    </tr>\n",
       "    <tr>\n",
       "      <th>2</th>\n",
       "      <td>Glockenstraße 35, Derendorf, Düsseldorf</td>\n",
       "      <td>600 €</td>\n",
       "      <td>2</td>\n",
       "    </tr>\n",
       "    <tr>\n",
       "      <th>3</th>\n",
       "      <td>Mindener Straße 92, Oberbilk, Düsseldorf</td>\n",
       "      <td>899 €</td>\n",
       "      <td>2</td>\n",
       "    </tr>\n",
       "    <tr>\n",
       "      <th>4</th>\n",
       "      <td>Mindener Straße 100, Oberbilk, Düsseldorf</td>\n",
       "      <td>1.403,27 €</td>\n",
       "      <td>3</td>\n",
       "    </tr>\n",
       "  </tbody>\n",
       "</table>\n",
       "</div>"
      ],
      "text/plain": [
       "                                     Address       Price Num_Rooms\n",
       "0       Heideweg 5, Mörsenbroich, Düsseldorf  1.086,03 €         3\n",
       "1  Langerstraße 57, Flingern Süd, Düsseldorf       700 €         2\n",
       "2    Glockenstraße 35, Derendorf, Düsseldorf       600 €         2\n",
       "3   Mindener Straße 92, Oberbilk, Düsseldorf       899 €         2\n",
       "4  Mindener Straße 100, Oberbilk, Düsseldorf  1.403,27 €         3"
      ]
     },
     "execution_count": 16,
     "metadata": {},
     "output_type": "execute_result"
    }
   ],
   "source": [
    "result = pd.concat([pd_address, pd_price, pd_rooms], axis=1, sort=False)\n",
    "result.columns = ['Address', 'Price', 'Num_Rooms']\n",
    "result.head()"
   ]
  },
  {
   "cell_type": "code",
   "execution_count": null,
   "metadata": {},
   "outputs": [],
   "source": []
  },
  {
   "cell_type": "code",
   "execution_count": null,
   "metadata": {},
   "outputs": [],
   "source": []
  },
  {
   "cell_type": "code",
   "execution_count": null,
   "metadata": {},
   "outputs": [],
   "source": []
  }
 ],
 "metadata": {
  "kernelspec": {
   "display_name": "Python 3",
   "language": "python",
   "name": "python3"
  },
  "language_info": {
   "codemirror_mode": {
    "name": "ipython",
    "version": 3
   },
   "file_extension": ".py",
   "mimetype": "text/x-python",
   "name": "python",
   "nbconvert_exporter": "python",
   "pygments_lexer": "ipython3",
   "version": "3.7.7"
  }
 },
 "nbformat": 4,
 "nbformat_minor": 4
}
