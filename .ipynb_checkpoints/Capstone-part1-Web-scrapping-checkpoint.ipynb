{
 "cells": [
  {
   "cell_type": "code",
   "execution_count": 1,
   "metadata": {},
   "outputs": [
    {
     "name": "stdout",
     "output_type": "stream",
     "text": [
      "Libraries imported.\n"
     ]
    }
   ],
   "source": [
    "# Import required libraries for scrapping\n",
    "import urllib.request\n",
    "from bs4 import BeautifulSoup\n",
    "import smtplib\n",
    "import json # library to handle JSON files\n",
    "\n",
    "import requests # library to handle requests\n",
    "from pandas.io.json import json_normalize # tranform JSON file into a pandas dataframe\n",
    "\n",
    "import numpy as np # library to handle data in a vectorized manner\n",
    "import pandas as pd # library for data analsysis\n",
    "pd.set_option('display.max_columns', None)\n",
    "pd.set_option('display.max_rows', None)\n",
    "\n",
    "# Regular Expressions to collect the addresses\n",
    "import re\n",
    "\n",
    "\n",
    "#!conda install -c conda-forge geopy --yes # uncomment this line if you haven't completed the Foursquare API lab\n",
    "from geopy.geocoders import Nominatim # convert an address into latitude and longitude values\n",
    "\n",
    "\n",
    "\n",
    "# Matplotlib and associated plotting modules\n",
    "import matplotlib.cm as cm\n",
    "import matplotlib.colors as colors\n",
    "\n",
    "# import k-means from clustering stage\n",
    "from sklearn.cluster import KMeans\n",
    "\n",
    "#!conda install -c conda-forge folium=0.5.0 --yes # uncomment this line if you haven't completed the Foursquare API lab\n",
    "import folium # map rendering library\n",
    "\n",
    "# Class object has been created to store the credentials for safekeeping\n",
    "#import credentials_oa_outlk\n",
    "\n",
    "print('Libraries imported.')"
   ]
  },
  {
   "cell_type": "code",
   "execution_count": 2,
   "metadata": {},
   "outputs": [
    {
     "name": "stdout",
     "output_type": "stream",
     "text": [
      "Data parsed.\n"
     ]
    }
   ],
   "source": [
    "# Set/access url to be scrapped\n",
    "url = 'https://www.immobilienscout24.de/Suche/radius/wohnung-mieten?centerofsearchaddress=D%C3%BCsseldorf;;;1276010012;Nordrhein-Westfalen;&numberofrooms=2.0-&price=-2000.0&geocoordinates=51.23824;6.81513;3.0&pagenumber=3'\n",
    "headers = {\"User-agent\": 'Mozilla/5.0 (X11; Linux x86_64) AppleWebKit/537.36 (KHTML, like Gecko) Chrome/83.0.4103.116 Safari/537.36'}\n",
    "\n",
    "page = requests.get(url, headers=headers)\n",
    "\n",
    "# Parsing through the URL\n",
    "soup = BeautifulSoup(page.content, 'html.parser')\n",
    "\n",
    "print(\"Data parsed.\")"
   ]
  },
  {
   "cell_type": "markdown",
   "metadata": {},
   "source": [
    "## ~~Getting the address~~"
   ]
  },
  {
   "cell_type": "code",
   "execution_count": 3,
   "metadata": {},
   "outputs": [],
   "source": [
    "# Getting the address of each house\n",
    "address  = soup.find_all('button')\n",
    "\n",
    "address1 = []\n",
    "for a in address:\n",
    "    a = a.decode()\n",
    "    stuff = re.findall((\"[^<>]+\\w+[A-Za-z].\\\\s+Düsseldorf\"), a)\n",
    "    if len(stuff) == 0:\n",
    "        continue\n",
    "    else:        \n",
    "        address1.append(stuff)\n",
    "   \n",
    "#address1"
   ]
  },
  {
   "cell_type": "markdown",
   "metadata": {},
   "source": [
    "## ~~Getting the price~~"
   ]
  },
  {
   "cell_type": "code",
   "execution_count": 4,
   "metadata": {},
   "outputs": [],
   "source": [
    "# Getting the price for each house\n",
    "price  = soup.find_all('dd')\n",
    "\n",
    "price1 = []\n",
    "for p in price:\n",
    "    p = p.decode()\n",
    "    stuff = re.findall((\"[^<>]+\\\\s+€\"),p)\n",
    "    if len(stuff) == 0:\n",
    "        continue\n",
    "    else:        \n",
    "        price1.append(stuff)\n",
    "\n",
    "#price1"
   ]
  },
  {
   "cell_type": "markdown",
   "metadata": {},
   "source": [
    "## ~~Getting the number of rooms~~"
   ]
  },
  {
   "cell_type": "code",
   "execution_count": 5,
   "metadata": {},
   "outputs": [],
   "source": [
    "# Getting the number of rooms\n",
    "rooms = soup.findAll(class_=['onlySmall'])\n",
    "\n",
    "rooms1 = []\n",
    "for r in rooms:\n",
    "    r = r.decode()\n",
    "    stuff = re.findall((\"[>]+[0-9]+[<]\"), r)\n",
    "    if len(stuff) == 0:\n",
    "        continue\n",
    "    else:        \n",
    "        rooms1.append(stuff)\n",
    "\n",
    "# rooms1"
   ]
  },
  {
   "cell_type": "code",
   "execution_count": 6,
   "metadata": {},
   "outputs": [
    {
     "data": {
      "text/plain": [
       "'\\nhttps://towardsdatascience.com/top-5-beautiful-soup-functions-7bfe5a693482\\nhttps://www.crummy.com/software/BeautifulSoup/bs4/doc/\\n\\nhttps://mkyong.com/computer-tips/how-to-view-http-headers-in-google-chrome/\\n\\n'"
      ]
     },
     "execution_count": 6,
     "metadata": {},
     "output_type": "execute_result"
    }
   ],
   "source": [
    "\"\"\"\n",
    "https://towardsdatascience.com/top-5-beautiful-soup-functions-7bfe5a693482\n",
    "https://www.crummy.com/software/BeautifulSoup/bs4/doc/\n",
    "\n",
    "https://mkyong.com/computer-tips/how-to-view-http-headers-in-google-chrome/\n",
    "\n",
    "\"\"\""
   ]
  },
  {
   "cell_type": "markdown",
   "metadata": {},
   "source": [
    "## Getting the number of habitants per borough"
   ]
  },
  {
   "cell_type": "code",
   "execution_count": null,
   "metadata": {},
   "outputs": [],
   "source": [
    "url_hab = 'http://www.citypopulation.de/en/germany/dusseldorf/admin/'\n"
   ]
  },
  {
   "cell_type": "code",
   "execution_count": 7,
   "metadata": {},
   "outputs": [
    {
     "name": "stdout",
     "output_type": "stream",
     "text": [
      "The geograpical coordinate of Düsseldorf are 51.2254018, 6.7763137.\n"
     ]
    }
   ],
   "source": [
    "# Getting the Coordinates for Düsseldorf\n",
    "\n",
    "address = 'Düsseldorf, NRW'\n",
    "\n",
    "geolocator = Nominatim(user_agent=\"duesseldorf_explorer\")\n",
    "location = geolocator.geocode(address)\n",
    "latitude = location.latitude\n",
    "longitude = location.longitude\n",
    "print('The geograpical coordinate of Düsseldorf are {}, {}.'.format(latitude, longitude))"
   ]
  },
  {
   "cell_type": "code",
   "execution_count": null,
   "metadata": {},
   "outputs": [],
   "source": []
  },
  {
   "cell_type": "markdown",
   "metadata": {},
   "source": [
    "## Getting the Boroughs"
   ]
  },
  {
   "cell_type": "code",
   "execution_count": 9,
   "metadata": {},
   "outputs": [
    {
     "name": "stdout",
     "output_type": "stream",
     "text": [
      "Data parsed.\n"
     ]
    }
   ],
   "source": [
    "url = 'https://de.wikipedia.org/wiki/Liste_der_Stadtbezirke_von_D%C3%BCsseldorf'\n",
    "page = urllib.request.urlopen(url)\n",
    "\n",
    "# Parsing through the URL\n",
    "soup = BeautifulSoup(page, \"lxml\")\n",
    "\n",
    "print(\"Data parsed.\")"
   ]
  },
  {
   "cell_type": "code",
   "execution_count": 10,
   "metadata": {},
   "outputs": [
    {
     "data": {
      "text/plain": [
       "[<table class=\"wikitable sortable\">\n",
       " <tbody><tr>\n",
       " <th width=\"12%\">Stadtbezirk\n",
       " </th>\n",
       " <th width=\"16%\">Stadtteile\n",
       " </th>\n",
       " <th width=\"12%\">Fläche\n",
       " </th>\n",
       " <th width=\"12%\">Einwohner\n",
       " </th>\n",
       " <th width=\"12%\">Bevölkerungsdichte\n",
       " </th>\n",
       " <th class=\"unsortable\" width=\"12%\">Bezirksvorsteher\n",
       " </th>\n",
       " <th class=\"unsortable\" width=\"12%\">K\n",
       " </th>\n",
       " <th class=\"unsortable\" width=\"12%\">Karte\n",
       " </th></tr>\n",
       " <tr>\n",
       " <td align=\"center\"><a href=\"/wiki/Stadtbezirk_1_(D%C3%BCsseldorf)\" title=\"Stadtbezirk 1 (Düsseldorf)\">Stadtbezirk 1</a><br/><sup class=\"reference\" id=\"cite_ref-1\"><a href=\"#cite_note-1\">[1]</a></sup>\n",
       " </td>\n",
       " <td>011 <a href=\"/wiki/Altstadt_(D%C3%BCsseldorf)\" title=\"Altstadt (Düsseldorf)\">Altstadt</a><br/>012 <a href=\"/wiki/Carlstadt_(D%C3%BCsseldorf)\" title=\"Carlstadt (Düsseldorf)\">Carlstadt</a><br/>013 <a href=\"/wiki/Stadtmitte_(D%C3%BCsseldorf)\" title=\"Stadtmitte (Düsseldorf)\">Stadtmitte</a><br/>014 <a href=\"/wiki/Pempelfort\" title=\"Pempelfort\">Pempelfort</a><br/>015 <a href=\"/wiki/Derendorf\" title=\"Derendorf\">Derendorf</a><br/>016 <a href=\"/wiki/Golzheim_(D%C3%BCsseldorf)\" title=\"Golzheim (Düsseldorf)\">Golzheim</a>\n",
       " </td>\n",
       " <td align=\"center\">11,35 km²\n",
       " </td>\n",
       " <td align=\"center\">74.875\n",
       " </td>\n",
       " <td align=\"center\">6597<br/>Einwohner je km²\n",
       " </td>\n",
       " <td align=\"center\">Marina Spillner<br/>(SPD)\n",
       " </td>\n",
       " <td align=\"center\"><span class=\"coordinates plainlinks-print\" id=\"Düsseldorf-Stadtbezirk_1\"><a class=\"external text\" href=\"https://tools.wmflabs.org/geohack/geohack.php?params=51.225_N_6.7766666666667_E_region:DE-NW_type:city(74875)&amp;pagename=Liste_der_Stadtbezirke_von_D%C3%BCsseldorf&amp;language=de&amp;title=D%C3%BCsseldorf-Stadtbezirk+1\"><span title=\"Düsseldorf-Stadtbezirk 1\">Lage</span></a></span><span class=\"geo noexcerpt\" style=\"display:none\"><span class=\"body\"></span><span class=\"latitude\">51.225</span><span class=\"longitude\">6.7766666666667</span><span class=\"elevation\"></span></span>\n",
       " </td>\n",
       " <td align=\"center\"><a class=\"image\" href=\"/wiki/Datei:Karte_D_01.png\"><img alt=\"Karte D 01.png\" data-file-height=\"2363\" data-file-width=\"1633\" decoding=\"async\" height=\"130\" src=\"//upload.wikimedia.org/wikipedia/commons/thumb/a/a0/Karte_D_01.png/90px-Karte_D_01.png\" srcset=\"//upload.wikimedia.org/wikipedia/commons/thumb/a/a0/Karte_D_01.png/135px-Karte_D_01.png 1.5x, //upload.wikimedia.org/wikipedia/commons/thumb/a/a0/Karte_D_01.png/180px-Karte_D_01.png 2x\" width=\"90\"/></a>\n",
       " </td></tr>\n",
       " <tr>\n",
       " <td align=\"center\"><a href=\"/wiki/Stadtbezirk_2_(D%C3%BCsseldorf)\" title=\"Stadtbezirk 2 (Düsseldorf)\">Stadtbezirk 2</a><br/><sup class=\"reference\" id=\"cite_ref-2\"><a href=\"#cite_note-2\">[2]</a></sup>\n",
       " </td>\n",
       " <td>021 <a href=\"/wiki/Flingern\" title=\"Flingern\">Flingern Süd</a><br/>022 <a href=\"/wiki/Flingern\" title=\"Flingern\">Flingern Nord</a><br/>023 <a href=\"/wiki/D%C3%BCsseltal\" title=\"Düsseltal\">Düsseltal</a>\n",
       " </td>\n",
       " <td align=\"center\">07,18 km²\n",
       " </td>\n",
       " <td align=\"center\">56.207\n",
       " </td>\n",
       " <td align=\"center\">7828<br/>Einwohner je km²\n",
       " </td>\n",
       " <td align=\"center\">Uwe Wagner<br/>(SPD)\n",
       " </td>\n",
       " <td align=\"center\"><span class=\"coordinates plainlinks-print\" id=\"Düsseldorf-Stadtbezirk_2\"><a class=\"external text\" href=\"https://tools.wmflabs.org/geohack/geohack.php?params=51.225_N_6.7766666666667_E_region:DE-NW_type:city(56207)&amp;pagename=Liste_der_Stadtbezirke_von_D%C3%BCsseldorf&amp;language=de&amp;title=D%C3%BCsseldorf-Stadtbezirk+2\"><span title=\"Düsseldorf-Stadtbezirk 2\">Lage</span></a></span><span class=\"geo noexcerpt\" style=\"display:none\"><span class=\"body\"></span><span class=\"latitude\">51.225</span><span class=\"longitude\">6.7766666666667</span><span class=\"elevation\"></span></span>\n",
       " </td>\n",
       " <td align=\"center\"><a class=\"image\" href=\"/wiki/Datei:Karte_D_02.png\"><img alt=\"Karte D 02.png\" data-file-height=\"2363\" data-file-width=\"1633\" decoding=\"async\" height=\"130\" src=\"//upload.wikimedia.org/wikipedia/commons/thumb/d/d4/Karte_D_02.png/90px-Karte_D_02.png\" srcset=\"//upload.wikimedia.org/wikipedia/commons/thumb/d/d4/Karte_D_02.png/135px-Karte_D_02.png 1.5x, //upload.wikimedia.org/wikipedia/commons/thumb/d/d4/Karte_D_02.png/180px-Karte_D_02.png 2x\" width=\"90\"/></a>\n",
       " </td></tr>\n",
       " <tr>\n",
       " <td align=\"center\"><a href=\"/wiki/Stadtbezirk_3_(D%C3%BCsseldorf)\" title=\"Stadtbezirk 3 (Düsseldorf)\">Stadtbezirk 3</a><br/><sup class=\"reference\" id=\"cite_ref-3\"><a href=\"#cite_note-3\">[3]</a></sup>\n",
       " </td>\n",
       " <td>031 <a href=\"/wiki/Friedrichstadt_(D%C3%BCsseldorf)\" title=\"Friedrichstadt (Düsseldorf)\">Friedrichstadt</a><br/>032 <a href=\"/wiki/Unterbilk\" title=\"Unterbilk\">Unterbilk</a><br/>033 <a href=\"/wiki/Hafen_(D%C3%BCsseldorf)\" title=\"Hafen (Düsseldorf)\">Hafen</a><br/>034 <a href=\"/wiki/Hamm_(D%C3%BCsseldorf)\" title=\"Hamm (Düsseldorf)\">Hamm</a><br/>035 <a href=\"/wiki/Volmerswerth\" title=\"Volmerswerth\">Volmerswerth</a><br/>036 <a href=\"/wiki/Bilk\" title=\"Bilk\">Bilk</a><br/>037 <a href=\"/wiki/Oberbilk\" title=\"Oberbilk\">Oberbilk</a><br/>038 <a href=\"/wiki/Flehe\" title=\"Flehe\">Flehe</a>\n",
       " </td>\n",
       " <td align=\"center\">24,2 km²\n",
       " </td>\n",
       " <td align=\"center\">109.320\n",
       " </td>\n",
       " <td align=\"center\">4517<br/>Einwohner je km²\n",
       " </td>\n",
       " <td align=\"center\">Walter Schmidt<br/>(CDU)\n",
       " </td>\n",
       " <td align=\"center\"><span class=\"coordinates plainlinks-print\" id=\"Düsseldorf-Stadtbezirk_3\"><a class=\"external text\" href=\"https://tools.wmflabs.org/geohack/geohack.php?params=51.203333333333_N_6.7869444444444_E_region:DE-NW_type:city(109320)&amp;pagename=Liste_der_Stadtbezirke_von_D%C3%BCsseldorf&amp;language=de&amp;title=D%C3%BCsseldorf-Stadtbezirk+3\"><span title=\"Düsseldorf-Stadtbezirk 3\">Lage</span></a></span><span class=\"geo noexcerpt\" style=\"display:none\"><span class=\"body\"></span><span class=\"latitude\">51.203333333333</span><span class=\"longitude\">6.7869444444444</span><span class=\"elevation\"></span></span>\n",
       " </td>\n",
       " <td align=\"center\"><a class=\"image\" href=\"/wiki/Datei:Karte_D_03.png\"><img alt=\"Karte D 03.png\" data-file-height=\"2363\" data-file-width=\"1633\" decoding=\"async\" height=\"130\" src=\"//upload.wikimedia.org/wikipedia/commons/thumb/1/11/Karte_D_03.png/90px-Karte_D_03.png\" srcset=\"//upload.wikimedia.org/wikipedia/commons/thumb/1/11/Karte_D_03.png/135px-Karte_D_03.png 1.5x, //upload.wikimedia.org/wikipedia/commons/thumb/1/11/Karte_D_03.png/180px-Karte_D_03.png 2x\" width=\"90\"/></a>\n",
       " </td></tr>\n",
       " <tr>\n",
       " <td align=\"center\"><a href=\"/wiki/Stadtbezirk_4_(D%C3%BCsseldorf)\" title=\"Stadtbezirk 4 (Düsseldorf)\">Stadtbezirk 4</a><br/><sup class=\"reference\" id=\"cite_ref-4\"><a href=\"#cite_note-4\">[4]</a></sup>\n",
       " </td>\n",
       " <td>041 <a href=\"/wiki/Oberkassel_(D%C3%BCsseldorf)\" title=\"Oberkassel (Düsseldorf)\">Oberkassel</a><br/>042 <a href=\"/wiki/Heerdt\" title=\"Heerdt\">Heerdt</a><br/>043 <a href=\"/wiki/L%C3%B6rick\" title=\"Lörick\">Lörick</a><br/>044 <a href=\"/wiki/Niederkassel_(D%C3%BCsseldorf)\" title=\"Niederkassel (Düsseldorf)\">Niederkassel</a>\n",
       " </td>\n",
       " <td align=\"center\">12,77 km²\n",
       " </td>\n",
       " <td align=\"center\">39.582\n",
       " </td>\n",
       " <td align=\"center\">3100<br/>Einwohner je km²\n",
       " </td>\n",
       " <td align=\"center\">Rolf Tups<br/>(CDU)\n",
       " </td>\n",
       " <td align=\"center\"><span class=\"coordinates plainlinks-print\" id=\"Düsseldorf-Stadtbezirk_4\"><a class=\"external text\" href=\"https://tools.wmflabs.org/geohack/geohack.php?params=51.230277777778_N_6.7547222222222_E_region:DE-NW_type:city(39582)&amp;pagename=Liste_der_Stadtbezirke_von_D%C3%BCsseldorf&amp;language=de&amp;title=D%C3%BCsseldorf-Stadtbezirk+4\"><span title=\"Düsseldorf-Stadtbezirk 4\">Lage</span></a></span><span class=\"geo noexcerpt\" style=\"display:none\"><span class=\"body\"></span><span class=\"latitude\">51.230277777778</span><span class=\"longitude\">6.7547222222222</span><span class=\"elevation\"></span></span>\n",
       " </td>\n",
       " <td align=\"center\"><a class=\"image\" href=\"/wiki/Datei:Karte_D_04.png\"><img alt=\"Karte D 04.png\" data-file-height=\"2363\" data-file-width=\"1633\" decoding=\"async\" height=\"130\" src=\"//upload.wikimedia.org/wikipedia/commons/thumb/1/14/Karte_D_04.png/90px-Karte_D_04.png\" srcset=\"//upload.wikimedia.org/wikipedia/commons/thumb/1/14/Karte_D_04.png/135px-Karte_D_04.png 1.5x, //upload.wikimedia.org/wikipedia/commons/thumb/1/14/Karte_D_04.png/180px-Karte_D_04.png 2x\" width=\"90\"/></a>\n",
       " </td></tr>\n",
       " <tr>\n",
       " <td align=\"center\"><a href=\"/wiki/Stadtbezirk_5_(D%C3%BCsseldorf)\" title=\"Stadtbezirk 5 (Düsseldorf)\">Stadtbezirk 5</a><br/><sup class=\"reference\" id=\"cite_ref-5\"><a href=\"#cite_note-5\">[5]</a></sup>\n",
       " </td>\n",
       " <td>051 <a href=\"/wiki/Stockum_(D%C3%BCsseldorf)\" title=\"Stockum (Düsseldorf)\">Stockum</a><br/>052 <a href=\"/wiki/Lohausen\" title=\"Lohausen\">Lohausen</a><br/>053 <a href=\"/wiki/Kaiserswerth\" title=\"Kaiserswerth\">Kaiserswerth</a><br/>054 <a href=\"/wiki/Wittlaer\" title=\"Wittlaer\">Wittlaer</a><br/>055 <a href=\"/wiki/Angermund\" title=\"Angermund\">Angermund</a><br/>056 <a href=\"/wiki/Kalkum\" title=\"Kalkum\">Kalkum</a>\n",
       " </td>\n",
       " <td align=\"center\">50,9 km²\n",
       " </td>\n",
       " <td align=\"center\">32.358\n",
       " </td>\n",
       " <td align=\"center\"><span style=\"visibility:hidden;\">0</span>636<br/>Einwohner je km²\n",
       " </td>\n",
       " <td align=\"center\">Stefan Golißa<br/>(CDU)\n",
       " </td>\n",
       " <td align=\"center\"><span class=\"coordinates plainlinks-print\" id=\"Düsseldorf-Stadtbezirk_5\"><a class=\"external text\" href=\"https://tools.wmflabs.org/geohack/geohack.php?params=51.3_N_6.7391666666667_E_region:DE-NW_type:city(32358)&amp;pagename=Liste_der_Stadtbezirke_von_D%C3%BCsseldorf&amp;language=de&amp;title=D%C3%BCsseldorf-Stadtbezirk+5\"><span title=\"Düsseldorf-Stadtbezirk 5\">Lage</span></a></span><span class=\"geo noexcerpt\" style=\"display:none\"><span class=\"body\"></span><span class=\"latitude\">51.3</span><span class=\"longitude\">6.7391666666667</span><span class=\"elevation\"></span></span>\n",
       " </td>\n",
       " <td align=\"center\"><a class=\"image\" href=\"/wiki/Datei:Karte_D_05.png\"><img alt=\"Karte D 05.png\" data-file-height=\"2363\" data-file-width=\"1633\" decoding=\"async\" height=\"130\" src=\"//upload.wikimedia.org/wikipedia/commons/thumb/6/68/Karte_D_05.png/90px-Karte_D_05.png\" srcset=\"//upload.wikimedia.org/wikipedia/commons/thumb/6/68/Karte_D_05.png/135px-Karte_D_05.png 1.5x, //upload.wikimedia.org/wikipedia/commons/thumb/6/68/Karte_D_05.png/180px-Karte_D_05.png 2x\" width=\"90\"/></a>\n",
       " </td></tr>\n",
       " <tr>\n",
       " <td align=\"center\"><a href=\"/wiki/Stadtbezirk_6_(D%C3%BCsseldorf)\" title=\"Stadtbezirk 6 (Düsseldorf)\">Stadtbezirk 6</a><br/><sup class=\"reference\" id=\"cite_ref-6\"><a href=\"#cite_note-6\">[6]</a></sup>\n",
       " </td>\n",
       " <td>061 <a href=\"/wiki/Lichtenbroich\" title=\"Lichtenbroich\">Lichtenbroich</a><br/>062 <a href=\"/wiki/Unterrath\" title=\"Unterrath\">Unterrath</a><br/>063 <a href=\"/wiki/Rath_(D%C3%BCsseldorf)\" title=\"Rath (Düsseldorf)\">Rath</a><br/>064 <a href=\"/wiki/M%C3%B6rsenbroich\" title=\"Mörsenbroich\">Mörsenbroich</a>\n",
       " </td>\n",
       " <td align=\"center\">19,49 km²\n",
       " </td>\n",
       " <td align=\"center\">58.988\n",
       " </td>\n",
       " <td align=\"center\">3027<br/>Einwohner je km²\n",
       " </td>\n",
       " <td align=\"center\">Ralf Thomas<br/>(SPD)\n",
       " </td>\n",
       " <td align=\"center\"><span class=\"coordinates plainlinks-print\" id=\"Düsseldorf-Stadtbezirk_6\"><a class=\"external text\" href=\"https://tools.wmflabs.org/geohack/geohack.php?params=51.266111111111_N_6.8141666666667_E_region:DE-NW_type:city(58988)&amp;pagename=Liste_der_Stadtbezirke_von_D%C3%BCsseldorf&amp;language=de&amp;title=D%C3%BCsseldorf-Stadtbezirk+6\"><span title=\"Düsseldorf-Stadtbezirk 6\">Lage</span></a></span><span class=\"geo noexcerpt\" style=\"display:none\"><span class=\"body\"></span><span class=\"latitude\">51.266111111111</span><span class=\"longitude\">6.8141666666667</span><span class=\"elevation\"></span></span>\n",
       " </td>\n",
       " <td align=\"center\"><a class=\"image\" href=\"/wiki/Datei:Karte_D_06.png\"><img alt=\"Karte D 06.png\" data-file-height=\"2363\" data-file-width=\"1633\" decoding=\"async\" height=\"130\" src=\"//upload.wikimedia.org/wikipedia/commons/thumb/3/34/Karte_D_06.png/90px-Karte_D_06.png\" srcset=\"//upload.wikimedia.org/wikipedia/commons/thumb/3/34/Karte_D_06.png/135px-Karte_D_06.png 1.5x, //upload.wikimedia.org/wikipedia/commons/thumb/3/34/Karte_D_06.png/180px-Karte_D_06.png 2x\" width=\"90\"/></a>\n",
       " </td></tr>\n",
       " <tr>\n",
       " <td align=\"center\"><a href=\"/wiki/Stadtbezirk_7_(D%C3%BCsseldorf)\" title=\"Stadtbezirk 7 (Düsseldorf)\">Stadtbezirk 7</a><br/><sup class=\"reference\" id=\"cite_ref-7\"><a href=\"#cite_note-7\">[7]</a></sup>\n",
       " </td>\n",
       " <td>071 <a href=\"/wiki/Gerresheim\" title=\"Gerresheim\">Gerresheim</a><br/>072 <a href=\"/wiki/Grafenberg_(D%C3%BCsseldorf)\" title=\"Grafenberg (Düsseldorf)\">Grafenberg</a><br/>073 <a href=\"/wiki/Ludenberg\" title=\"Ludenberg\">Ludenberg</a><br/>074 <a href=\"/wiki/Hubbelrath\" title=\"Hubbelrath\">Hubbelrath</a><br/>075 <a href=\"/wiki/Knittkuhl\" title=\"Knittkuhl\">Knittkuhl</a>\n",
       " </td>\n",
       " <td align=\"center\">27,91 km²\n",
       " </td>\n",
       " <td align=\"center\">44.119\n",
       " </td>\n",
       " <td align=\"center\">1581<br/>Einwohner je km²\n",
       " </td>\n",
       " <td align=\"center\">Karsten Kunert<br/>(SPD)\n",
       " </td>\n",
       " <td align=\"center\"><span class=\"coordinates plainlinks-print\" id=\"Düsseldorf-Stadtbezirk_7\"><a class=\"external text\" href=\"https://tools.wmflabs.org/geohack/geohack.php?params=51.236775_N_6.8613888888889_E_region:DE-NW_type:city(44119)&amp;pagename=Liste_der_Stadtbezirke_von_D%C3%BCsseldorf&amp;language=de&amp;title=D%C3%BCsseldorf-Stadtbezirk+7\"><span title=\"Düsseldorf-Stadtbezirk 7\">Lage</span></a></span><span class=\"geo noexcerpt\" style=\"display:none\"><span class=\"body\"></span><span class=\"latitude\">51.236775</span><span class=\"longitude\">6.8613888888889</span><span class=\"elevation\"></span></span>\n",
       " </td>\n",
       " <td align=\"center\"><a class=\"image\" href=\"/wiki/Datei:Karte_D_07.png\"><img alt=\"Karte D 07.png\" data-file-height=\"2363\" data-file-width=\"1633\" decoding=\"async\" height=\"130\" src=\"//upload.wikimedia.org/wikipedia/commons/thumb/8/82/Karte_D_07.png/90px-Karte_D_07.png\" srcset=\"//upload.wikimedia.org/wikipedia/commons/thumb/8/82/Karte_D_07.png/135px-Karte_D_07.png 1.5x, //upload.wikimedia.org/wikipedia/commons/thumb/8/82/Karte_D_07.png/180px-Karte_D_07.png 2x\" width=\"90\"/></a>\n",
       " </td></tr>\n",
       " <tr>\n",
       " <td align=\"center\"><a href=\"/wiki/Stadtbezirk_8_(D%C3%BCsseldorf)\" title=\"Stadtbezirk 8 (Düsseldorf)\">Stadtbezirk 8</a><br/><sup class=\"reference\" id=\"cite_ref-8\"><a href=\"#cite_note-8\">[8]</a></sup>\n",
       " </td>\n",
       " <td>081 <a href=\"/wiki/Lierenfeld\" title=\"Lierenfeld\">Lierenfeld</a><br/>082 <a href=\"/wiki/Eller\" title=\"Eller\">Eller</a><br/>083 <a href=\"/wiki/Vennhausen\" title=\"Vennhausen\">Vennhausen</a><br/>084 <a href=\"/wiki/Unterbach_(D%C3%BCsseldorf)\" title=\"Unterbach (Düsseldorf)\">Unterbach</a>\n",
       " </td>\n",
       " <td align=\"center\">21,04 km²\n",
       " </td>\n",
       " <td align=\"center\">56.523\n",
       " </td>\n",
       " <td align=\"center\">2685<br/>Einwohner je km²\n",
       " </td>\n",
       " <td align=\"center\">Wilhelm van Leyen<br/>(CDU)\n",
       " </td>\n",
       " <td align=\"center\"><span class=\"coordinates plainlinks-print\" id=\"Düsseldorf-Stadtbezirk_8\"><a class=\"external text\" href=\"https://tools.wmflabs.org/geohack/geohack.php?params=51.209194444444_N_6.8275_E_region:DE-NW_type:city(56523)&amp;pagename=Liste_der_Stadtbezirke_von_D%C3%BCsseldorf&amp;language=de&amp;title=D%C3%BCsseldorf-Stadtbezirk+8\"><span title=\"Düsseldorf-Stadtbezirk 8\">Lage</span></a></span><span class=\"geo noexcerpt\" style=\"display:none\"><span class=\"body\"></span><span class=\"latitude\">51.209194444444</span><span class=\"longitude\">6.8275</span><span class=\"elevation\"></span></span>\n",
       " </td>\n",
       " <td align=\"center\"><a class=\"image\" href=\"/wiki/Datei:Karte_D_08.png\"><img alt=\"Karte D 08.png\" data-file-height=\"2363\" data-file-width=\"1633\" decoding=\"async\" height=\"130\" src=\"//upload.wikimedia.org/wikipedia/commons/thumb/a/ac/Karte_D_08.png/90px-Karte_D_08.png\" srcset=\"//upload.wikimedia.org/wikipedia/commons/thumb/a/ac/Karte_D_08.png/135px-Karte_D_08.png 1.5x, //upload.wikimedia.org/wikipedia/commons/thumb/a/ac/Karte_D_08.png/180px-Karte_D_08.png 2x\" width=\"90\"/></a>\n",
       " </td></tr>\n",
       " <tr>\n",
       " <td align=\"center\"><a href=\"/wiki/Stadtbezirk_9_(D%C3%BCsseldorf)\" title=\"Stadtbezirk 9 (Düsseldorf)\">Stadtbezirk 9</a><br/><sup class=\"reference\" id=\"cite_ref-9\"><a href=\"#cite_note-9\">[9]</a></sup>\n",
       " </td>\n",
       " <td>091 <a href=\"/wiki/Wersten\" title=\"Wersten\">Wersten</a><br/>092 <a href=\"/wiki/Himmelgeist\" title=\"Himmelgeist\">Himmelgeist</a><br/>093 <a href=\"/wiki/Holthausen_(D%C3%BCsseldorf)\" title=\"Holthausen (Düsseldorf)\">Holthausen</a><br/>094 <a href=\"/wiki/Reisholz\" title=\"Reisholz\">Reisholz</a><br/>095 <a href=\"/wiki/Benrath\" title=\"Benrath\">Benrath</a><br/>096 <a href=\"/wiki/Urdenbach\" title=\"Urdenbach\">Urdenbach</a><br/>097 <a href=\"/wiki/Itter_(D%C3%BCsseldorf)\" title=\"Itter (Düsseldorf)\">Itter</a><br/>098 <a href=\"/wiki/Hassels\" title=\"Hassels\">Hassels</a>\n",
       " </td>\n",
       " <td align=\"center\">36,57 km²\n",
       " </td>\n",
       " <td align=\"center\">89.162\n",
       " </td>\n",
       " <td align=\"center\">2438<br/>Einwohner je km²\n",
       " </td>\n",
       " <td align=\"center\">Karl-Heinz Graf<br/>(CDU)\n",
       " </td>\n",
       " <td align=\"center\"><span class=\"coordinates plainlinks-print\" id=\"Düsseldorf-Stadtbezirk_9\"><a class=\"external text\" href=\"https://tools.wmflabs.org/geohack/geohack.php?params=51.164258333333_N_6.8691666666667_E_region:DE-NW_type:city(89162)&amp;pagename=Liste_der_Stadtbezirke_von_D%C3%BCsseldorf&amp;language=de&amp;title=D%C3%BCsseldorf-Stadtbezirk+9\"><span title=\"Düsseldorf-Stadtbezirk 9\">Lage</span></a></span><span class=\"geo noexcerpt\" style=\"display:none\"><span class=\"body\"></span><span class=\"latitude\">51.164258333333</span><span class=\"longitude\">6.8691666666667</span><span class=\"elevation\"></span></span>\n",
       " </td>\n",
       " <td align=\"center\"><a class=\"image\" href=\"/wiki/Datei:Karte_D_09.png\"><img alt=\"Karte D 09.png\" data-file-height=\"2363\" data-file-width=\"1633\" decoding=\"async\" height=\"130\" src=\"//upload.wikimedia.org/wikipedia/commons/thumb/e/eb/Karte_D_09.png/90px-Karte_D_09.png\" srcset=\"//upload.wikimedia.org/wikipedia/commons/thumb/e/eb/Karte_D_09.png/135px-Karte_D_09.png 1.5x, //upload.wikimedia.org/wikipedia/commons/thumb/e/eb/Karte_D_09.png/180px-Karte_D_09.png 2x\" width=\"90\"/></a>\n",
       " </td></tr>\n",
       " <tr>\n",
       " <td align=\"center\"><a href=\"/wiki/Stadtbezirk_10_(D%C3%BCsseldorf)\" title=\"Stadtbezirk 10 (Düsseldorf)\">Stadtbezirk 10</a><br/><sup class=\"reference\" id=\"cite_ref-10\"><a href=\"#cite_note-10\">[10]</a></sup>\n",
       " </td>\n",
       " <td>101 <a href=\"/wiki/Garath\" title=\"Garath\">Garath</a><br/>102 <a href=\"/wiki/Hellerhof_(D%C3%BCsseldorf)\" title=\"Hellerhof (Düsseldorf)\">Hellerhof</a>\n",
       " </td>\n",
       " <td align=\"center\">05,59 km²\n",
       " </td>\n",
       " <td align=\"center\">24.909\n",
       " </td>\n",
       " <td align=\"center\">4456<br/>Einwohner je km²\n",
       " </td>\n",
       " <td align=\"center\">Uwe Sievers<br/>(SPD)\n",
       " </td>\n",
       " <td align=\"center\"><span class=\"coordinates plainlinks-print\" id=\"Düsseldorf-Stadtbezirk_10\"><a class=\"external text\" href=\"https://tools.wmflabs.org/geohack/geohack.php?params=51.149061111111_N_6.8952777777778_E_region:DE-NW_type:city(24909)&amp;pagename=Liste_der_Stadtbezirke_von_D%C3%BCsseldorf&amp;language=de&amp;title=D%C3%BCsseldorf-Stadtbezirk+10\"><span title=\"Düsseldorf-Stadtbezirk 10\">Lage</span></a></span><span class=\"geo noexcerpt\" style=\"display:none\"><span class=\"body\"></span><span class=\"latitude\">51.149061111111</span><span class=\"longitude\">6.8952777777778</span><span class=\"elevation\"></span></span>\n",
       " </td>\n",
       " <td align=\"center\"><a class=\"image\" href=\"/wiki/Datei:Karte_D_10.png\"><img alt=\"Karte D 10.png\" data-file-height=\"2363\" data-file-width=\"1633\" decoding=\"async\" height=\"130\" src=\"//upload.wikimedia.org/wikipedia/commons/thumb/5/55/Karte_D_10.png/90px-Karte_D_10.png\" srcset=\"//upload.wikimedia.org/wikipedia/commons/thumb/5/55/Karte_D_10.png/135px-Karte_D_10.png 1.5x, //upload.wikimedia.org/wikipedia/commons/thumb/5/55/Karte_D_10.png/180px-Karte_D_10.png 2x\" width=\"90\"/></a>\n",
       " </td></tr></tbody></table>,\n",
       " <table cellpadding=\"0\" cellspacing=\"8\" class=\"hintergrundfarbe1 rahmenfarbe1 noprint\" id=\"Vorlage_Informativ\" style=\"width: 100%; font-size: 95%; border-top-style: solid; margin-top: 1em; clear: both; position:relative;\">\n",
       " <tbody><tr>\n",
       " <td aria-hidden=\"true\" class=\"noviewer\" role=\"presentation\" style=\"width: 24px;\"><a class=\"image\" href=\"/wiki/Datei:Qsicon_informativ.svg\"><img alt=\"\" data-file-height=\"24\" data-file-width=\"24\" decoding=\"async\" height=\"24\" src=\"//upload.wikimedia.org/wikipedia/commons/thumb/a/a5/Qsicon_informativ.svg/24px-Qsicon_informativ.svg.png\" srcset=\"//upload.wikimedia.org/wikipedia/commons/thumb/a/a5/Qsicon_informativ.svg/36px-Qsicon_informativ.svg.png 1.5x, //upload.wikimedia.org/wikipedia/commons/thumb/a/a5/Qsicon_informativ.svg/48px-Qsicon_informativ.svg.png 2x\" width=\"24\"/></a>\n",
       " </td>\n",
       " <td>Diese Seite wurde am 19. Januar 2008 in <a href=\"/wiki/Spezial:Permanenter_Link/41377925\" title=\"Spezial:Permanenter Link/41377925\">dieser Version</a> in die Auswahl der <a href=\"/wiki/Wikipedia:Informative_Listen_und_Portale\" title=\"Wikipedia:Informative Listen und Portale\">informativen Listen und Portale</a> aufgenommen.\n",
       " </td></tr></tbody></table>]"
      ]
     },
     "execution_count": 10,
     "metadata": {},
     "output_type": "execute_result"
    }
   ],
   "source": [
    "all_tables = soup.find_all(\"table\")\n",
    "right_table = soup.find('table', class_ = 'wikitable sortable jquery-tablesorter')\n",
    "\n",
    "all_tables"
   ]
  },
  {
   "cell_type": "markdown",
   "metadata": {},
   "source": [
    "# \n",
    "### Assigning Districts and Boroughs to DataFrame"
   ]
  },
  {
   "cell_type": "code",
   "execution_count": null,
   "metadata": {},
   "outputs": [],
   "source": [
    "# Set de DataFrame columns\n",
    "column_names = ['PostalCode','Borough','Neighborhood']\n",
    "df = pd.DataFrame(columns = column_names)\n",
    "\n",
    "# Check the DataFrame structure\n",
    "df"
   ]
  }
 ],
 "metadata": {
  "kernelspec": {
   "display_name": "Python 3",
   "language": "python",
   "name": "python3"
  },
  "language_info": {
   "codemirror_mode": {
    "name": "ipython",
    "version": 3
   },
   "file_extension": ".py",
   "mimetype": "text/x-python",
   "name": "python",
   "nbconvert_exporter": "python",
   "pygments_lexer": "ipython3",
   "version": "3.7.7"
  }
 },
 "nbformat": 4,
 "nbformat_minor": 4
}
